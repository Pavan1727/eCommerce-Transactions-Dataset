{
  "nbformat": 4,
  "nbformat_minor": 0,
  "metadata": {
    "colab": {
      "provenance": []
    },
    "kernelspec": {
      "name": "python3",
      "display_name": "Python 3"
    },
    "language_info": {
      "name": "python"
    }
  },
  "cells": [
    {
      "cell_type": "markdown",
      "source": [
        "**Lookalike Model**"
      ],
      "metadata": {
        "id": "PlL5_D3PI_l5"
      }
    },
    {
      "cell_type": "code",
      "source": [
        "import pandas as pd\n",
        "import matplotlib.pyplot as plt\n",
        "import seaborn as sns"
      ],
      "metadata": {
        "id": "30eik3B6JXZR"
      },
      "execution_count": 3,
      "outputs": []
    },
    {
      "cell_type": "code",
      "source": [
        "# Load datasets\n",
        "customers = pd.read_csv(\"/content/Customers.csv\")\n",
        "products = pd.read_csv(\"/content/Products.csv\")\n",
        "transactions = pd.read_csv(\"/content/Transactions.csv\")"
      ],
      "metadata": {
        "id": "QOwJQcchJYXT"
      },
      "execution_count": 5,
      "outputs": []
    },
    {
      "cell_type": "markdown",
      "source": [
        "**Calculate Customer Similarity**"
      ],
      "metadata": {
        "id": "i4EnxzoSJGOS"
      }
    },
    {
      "cell_type": "code",
      "execution_count": 6,
      "metadata": {
        "id": "UEGvDNyOI77F"
      },
      "outputs": [],
      "source": [
        "from sklearn.metrics.pairwise import cosine_similarity\n",
        "\n",
        "# Merge transactions with customers and products\n",
        "merged = transactions.merge(customers, on=\"CustomerID\").merge(products, on=\"ProductID\")\n",
        "\n",
        "# Aggregate data by customer and product\n",
        "customer_product_matrix = merged.pivot_table(\n",
        "    index=\"CustomerID\", columns=\"ProductID\", values=\"Quantity\", fill_value=0\n",
        ")\n",
        "\n",
        "# Compute cosine similarity\n",
        "similarity_matrix = cosine_similarity(customer_product_matrix)\n"
      ]
    },
    {
      "cell_type": "code",
      "source": [
        "import numpy as np\n",
        "\n",
        "# Get top 3 similar customers for each customer\n",
        "similarity_df = pd.DataFrame(similarity_matrix, index=customer_product_matrix.index, columns=customer_product_matrix.index)\n",
        "\n",
        "lookalikes = {}\n",
        "for customer_id in similarity_df.index:\n",
        "    similar_customers = similarity_df[customer_id].sort_values(ascending=False).iloc[1:4]\n",
        "    lookalikes[customer_id] = list(zip(similar_customers.index, similar_customers.values))\n"
      ],
      "metadata": {
        "id": "-E-rdyDGJMpY"
      },
      "execution_count": 8,
      "outputs": []
    },
    {
      "cell_type": "code",
      "source": [
        "# Save to CSV\n",
        "import csv\n",
        "with open(\"FirstName_LastName_Lookalike.csv\", \"w\", newline=\"\") as f:\n",
        "    writer = csv.writer(f)\n",
        "    writer.writerow([\"CustomerID\", \"SimilarCustomers\"])\n",
        "    for key, value in lookalikes.items():\n",
        "        writer.writerow([key, value])\n"
      ],
      "metadata": {
        "id": "AvvmJiuZJTkg"
      },
      "execution_count": 9,
      "outputs": []
    },
    {
      "cell_type": "code",
      "source": [],
      "metadata": {
        "id": "Sh6JzG7hMNgw"
      },
      "execution_count": null,
      "outputs": []
    }
  ]
}